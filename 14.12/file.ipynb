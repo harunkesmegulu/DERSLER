{
 "cells": [
  {
   "cell_type": "code",
   "execution_count": 1,
   "metadata": {},
   "outputs": [
    {
     "name": "stdout",
     "output_type": "stream",
     "text": [
      "11\n"
     ]
    }
   ],
   "source": [
    "L1 = []\n",
    "L1.append([1, [2, 3], 4])\n",
    "L1.extend([7, 8, 9])\n",
    "print(L1[0][1][1] + L1[2])\n"
   ]
  },
  {
   "cell_type": "code",
   "execution_count": 5,
   "metadata": {},
   "outputs": [
    {
     "name": "stdout",
     "output_type": "stream",
     "text": [
      "3\n",
      "8\n",
      "[1, [2, 3], 4]\n",
      "[2, 3]\n"
     ]
    }
   ],
   "source": [
    "L1 = []\n",
    "L1.append([1, [2, 3], 4])\n",
    "L1.extend([7, 8, 9])\n",
    "print(L1[0][1][1])\n",
    "print(L1[2])\n",
    "print(L1[0])\n",
    "print(L1[0][1])\n"
   ]
  },
  {
   "cell_type": "code",
   "execution_count": 6,
   "metadata": {},
   "outputs": [
    {
     "data": {
      "text/plain": [
       "[('Apples', 5, 1.5), ('Oranges', 3, 2.25), ('Bananas', 4, 0.89)]"
      ]
     },
     "execution_count": 6,
     "metadata": {},
     "output_type": "execute_result"
    }
   ],
   "source": [
    "fruits = ['Apples', 'Oranges', 'Bananas']\n",
    "quantities = [5, 3, 4]\n",
    "prices = [1.50, 2.25, 0.89]\n",
    "# Desired output\n",
    "[('Apples', 5, 1.50),\n",
    "('Oranges', 3, 2.25),\n",
    "('Bananas', 4, 0.89)]"
   ]
  },
  {
   "cell_type": "code",
   "execution_count": 7,
   "metadata": {},
   "outputs": [
    {
     "name": "stdout",
     "output_type": "stream",
     "text": [
      "[('Apples', 5, 1.5), ('Oranges', 3, 2.25), ('Bananas', 4, 0.89)]\n"
     ]
    }
   ],
   "source": [
    "fruits = ['Apples', 'Oranges', 'Bananas']\n",
    "quantities = [5, 3, 4]\n",
    "prices = [1.50, 2.25, 0.89]\n",
    "i = 0\n",
    "output = []\n",
    "for fruit in fruits:\n",
    " temp_qty = quantities[i]\n",
    " temp_price = prices[i]\n",
    " output.append((fruit, temp_qty, temp_price))\n",
    " i += 1\n",
    "print(output)\n"
   ]
  }
 ],
 "metadata": {
  "kernelspec": {
   "display_name": "Python 3",
   "language": "python",
   "name": "python3"
  },
  "language_info": {
   "codemirror_mode": {
    "name": "ipython",
    "version": 3
   },
   "file_extension": ".py",
   "mimetype": "text/x-python",
   "name": "python",
   "nbconvert_exporter": "python",
   "pygments_lexer": "ipython3",
   "version": "3.11.0"
  },
  "orig_nbformat": 4,
  "vscode": {
   "interpreter": {
    "hash": "5ffd7eb2cebf9ac436b5021ba01877e9cee6b03524e01bf8c8637d3e64111215"
   }
  }
 },
 "nbformat": 4,
 "nbformat_minor": 2
}
