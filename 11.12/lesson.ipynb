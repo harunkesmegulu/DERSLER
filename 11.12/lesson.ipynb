{
 "cells": [
  {
   "cell_type": "code",
   "execution_count": 1,
   "metadata": {},
   "outputs": [],
   "source": [
    "sayac=0\n",
    "liste = []\n",
    "sayi = int(input(\"kaç tane sayı değeri gireceksiniz\"))\n",
    "while (sayac<sayi):\n",
    "    a = float(input(\"bir sayı giriniz\"))\n",
    "    liste.append(a)             #listeye tekrar ekle\n",
    "    sayac+=1"
   ]
  },
  {
   "cell_type": "code",
   "execution_count": 6,
   "metadata": {},
   "outputs": [
    {
     "name": "stdout",
     "output_type": "stream",
     "text": [
      "------------------------------\n",
      "Hangman Game\n",
      "------------------------------\n",
      "\n",
      "   +---+\n",
      "   |   |\n",
      "       |\n",
      "       |\n",
      "       |\n",
      "       |\n",
      "=========\n",
      "_\n",
      "_\n",
      "_\n",
      "_\n",
      "_\n",
      "_\n",
      "\n",
      "   +---+\n",
      "   |   |\n",
      "   O   |\n",
      "       |\n",
      "       |\n",
      "       |\n",
      "=========\n",
      "_\n",
      "_\n",
      "_\n",
      "n\n",
      "_\n",
      "_\n"
     ]
    }
   ],
   "source": [
    "import random\n",
    "\n",
    "pics = [\"\"\"\n",
    "   +---+\n",
    "   |   |\n",
    "       |\n",
    "       |\n",
    "       |\n",
    "       |\n",
    "=========\"\"\",\"\"\"\n",
    "   +---+\n",
    "   |   |\n",
    "   O   |\n",
    "       |\n",
    "       |\n",
    "       |\n",
    "=========\"\"\",\"\"\"\n",
    "   +---+\n",
    "   |   |\n",
    "   O   |\n",
    "   |   |\n",
    "       |\n",
    "       |\n",
    "=========\"\"\",\"\"\"\n",
    "   +---+\n",
    "   |   |\n",
    "   O   |\n",
    "  /|   |\n",
    "       |\n",
    "       |\n",
    "=========\"\"\",\"\"\"\n",
    "   +---+\n",
    "   |   |\n",
    "   O   |\n",
    "  /|\\  |\n",
    "       |\n",
    "       |\n",
    "=========\"\"\",\"\"\"\n",
    "   +---+\n",
    "   |   |\n",
    "   O   |\n",
    "  /|\\  |\n",
    "  /    |\n",
    "       |\n",
    "=========\"\"\",\"\"\"\n",
    "   +---+\n",
    "   |   |\n",
    "   O   |\n",
    "  /|\\  |\n",
    "  / \\  |\n",
    "       |\n",
    "=========\"\"\"]\n",
    "\n",
    "while True:\n",
    "    print((\"-\" * 30) + \"\\nHangman Game\\n\" + (\"-\" * 30))\n",
    "    \n",
    "    word = random.choice([\"windows\", \"python\", \"terminal\", \"ubuntu\"])\n",
    "    step = 0\n",
    "    letters = []\n",
    "    \n",
    "    while True:\n",
    "        print(pics[step])\n",
    "        \n",
    "        for i, char in enumerate(word):\n",
    "            print(char if i in letters else \"_\"),\n",
    "            \n",
    "        answer = input(\"\\nAnswer: \")\n",
    "        \n",
    "        if answer == word:\n",
    "            print(\"You win!\\n\\n\")\n",
    "            break\n",
    "        else:\n",
    "            while True:\n",
    "                rand = random.randint(0, len(word))\n",
    "                if not rand in letters:\n",
    "                    letters.append(rand)\n",
    "                    break\n",
    "            \n",
    "            step += 1\n",
    "        \n",
    "        if step >= len(pics):\n",
    "            print(\"You lose!\\n\\n\")\n",
    "            break\n",
    "        \n",
    "    if not \"y\" == input(\"Play again (y/n): \"):\n",
    "        break"
   ]
  },
  {
   "cell_type": "code",
   "execution_count": 2,
   "metadata": {},
   "outputs": [
    {
     "ename": "IndentationError",
     "evalue": "unindent does not match any outer indentation level (<tokenize>, line 9)",
     "output_type": "error",
     "traceback": [
      "\u001b[1;36m  File \u001b[1;32m<tokenize>:9\u001b[1;36m\u001b[0m\n\u001b[1;33m    else:\u001b[0m\n\u001b[1;37m    ^\u001b[0m\n\u001b[1;31mIndentationError\u001b[0m\u001b[1;31m:\u001b[0m unindent does not match any outer indentation level\n"
     ]
    }
   ],
   "source": [
    "if (yil % 4) == 0:\n",
    "        if (yil % 100) == 0:\n",
    "            if (yil % 400) == 0:\n",
    "                return True\n",
    "            else:\n",
    "                return False\n",
    "        else:\n",
    "             return True\n",
    "    else:\n",
    "        return False"
   ]
  },
  {
   "cell_type": "code",
   "execution_count": 4,
   "metadata": {},
   "outputs": [
    {
     "ename": "KeyboardInterrupt",
     "evalue": "Interrupted by user",
     "output_type": "error",
     "traceback": [
      "\u001b[1;31m---------------------------------------------------------------------------\u001b[0m",
      "\u001b[1;31mKeyboardInterrupt\u001b[0m                         Traceback (most recent call last)",
      "Cell \u001b[1;32mIn[4], line 10\u001b[0m\n\u001b[0;32m      8\u001b[0m \u001b[39mif\u001b[39;00m \u001b[39m__name__\u001b[39m \u001b[39m==\u001b[39m \u001b[39m'\u001b[39m\u001b[39m__main__\u001b[39m\u001b[39m'\u001b[39m:\n\u001b[0;32m      9\u001b[0m     s \u001b[39m=\u001b[39m \u001b[39minput\u001b[39m()\n\u001b[1;32m---> 10\u001b[0m     i, c \u001b[39m=\u001b[39m \u001b[39minput\u001b[39;49m()\u001b[39m.\u001b[39msplit()\n\u001b[0;32m     11\u001b[0m     s_new \u001b[39m=\u001b[39m mutate_string(s, \u001b[39mint\u001b[39m(i), c)\n\u001b[0;32m     12\u001b[0m     \u001b[39mprint\u001b[39m(s_new)\n",
      "File \u001b[1;32m~\\AppData\\Roaming\\Python\\Python311\\site-packages\\ipykernel\\kernelbase.py:1177\u001b[0m, in \u001b[0;36mKernel.raw_input\u001b[1;34m(self, prompt)\u001b[0m\n\u001b[0;32m   1173\u001b[0m \u001b[39mif\u001b[39;00m \u001b[39mnot\u001b[39;00m \u001b[39mself\u001b[39m\u001b[39m.\u001b[39m_allow_stdin:\n\u001b[0;32m   1174\u001b[0m     \u001b[39mraise\u001b[39;00m StdinNotImplementedError(\n\u001b[0;32m   1175\u001b[0m         \u001b[39m\"\u001b[39m\u001b[39mraw_input was called, but this frontend does not support input requests.\u001b[39m\u001b[39m\"\u001b[39m\n\u001b[0;32m   1176\u001b[0m     )\n\u001b[1;32m-> 1177\u001b[0m \u001b[39mreturn\u001b[39;00m \u001b[39mself\u001b[39;49m\u001b[39m.\u001b[39;49m_input_request(\n\u001b[0;32m   1178\u001b[0m     \u001b[39mstr\u001b[39;49m(prompt),\n\u001b[0;32m   1179\u001b[0m     \u001b[39mself\u001b[39;49m\u001b[39m.\u001b[39;49m_parent_ident[\u001b[39m\"\u001b[39;49m\u001b[39mshell\u001b[39;49m\u001b[39m\"\u001b[39;49m],\n\u001b[0;32m   1180\u001b[0m     \u001b[39mself\u001b[39;49m\u001b[39m.\u001b[39;49mget_parent(\u001b[39m\"\u001b[39;49m\u001b[39mshell\u001b[39;49m\u001b[39m\"\u001b[39;49m),\n\u001b[0;32m   1181\u001b[0m     password\u001b[39m=\u001b[39;49m\u001b[39mFalse\u001b[39;49;00m,\n\u001b[0;32m   1182\u001b[0m )\n",
      "File \u001b[1;32m~\\AppData\\Roaming\\Python\\Python311\\site-packages\\ipykernel\\kernelbase.py:1219\u001b[0m, in \u001b[0;36mKernel._input_request\u001b[1;34m(self, prompt, ident, parent, password)\u001b[0m\n\u001b[0;32m   1216\u001b[0m             \u001b[39mbreak\u001b[39;00m\n\u001b[0;32m   1217\u001b[0m \u001b[39mexcept\u001b[39;00m \u001b[39mKeyboardInterrupt\u001b[39;00m:\n\u001b[0;32m   1218\u001b[0m     \u001b[39m# re-raise KeyboardInterrupt, to truncate traceback\u001b[39;00m\n\u001b[1;32m-> 1219\u001b[0m     \u001b[39mraise\u001b[39;00m \u001b[39mKeyboardInterrupt\u001b[39;00m(\u001b[39m\"\u001b[39m\u001b[39mInterrupted by user\u001b[39m\u001b[39m\"\u001b[39m) \u001b[39mfrom\u001b[39;00m \u001b[39mNone\u001b[39m\n\u001b[0;32m   1220\u001b[0m \u001b[39mexcept\u001b[39;00m \u001b[39mException\u001b[39;00m:\n\u001b[0;32m   1221\u001b[0m     \u001b[39mself\u001b[39m\u001b[39m.\u001b[39mlog\u001b[39m.\u001b[39mwarning(\u001b[39m\"\u001b[39m\u001b[39mInvalid Message:\u001b[39m\u001b[39m\"\u001b[39m, exc_info\u001b[39m=\u001b[39m\u001b[39mTrue\u001b[39;00m)\n",
      "\u001b[1;31mKeyboardInterrupt\u001b[0m: Interrupted by user"
     ]
    }
   ],
   "source": [
    "def mutate_string(string, position, character):\n",
    "    # Mutations in Python - HackerRank Solution START\n",
    "    l = list(string)\n",
    "    l[position] = character;\n",
    "    string = ''.join(l);\n",
    "    return string\n",
    "    # Mutations in Python - HackerRank Solution END\n",
    "if __name__ == '__main__':\n",
    "    s = input()\n",
    "    i, c = input().split()\n",
    "    s_new = mutate_string(s, int(i), c)\n",
    "    print(s_new)"
   ]
  }
 ],
 "metadata": {
  "kernelspec": {
   "display_name": "Python 3",
   "language": "python",
   "name": "python3"
  },
  "language_info": {
   "codemirror_mode": {
    "name": "ipython",
    "version": 3
   },
   "file_extension": ".py",
   "mimetype": "text/x-python",
   "name": "python",
   "nbconvert_exporter": "python",
   "pygments_lexer": "ipython3",
   "version": "3.11.0"
  },
  "orig_nbformat": 4,
  "vscode": {
   "interpreter": {
    "hash": "5ffd7eb2cebf9ac436b5021ba01877e9cee6b03524e01bf8c8637d3e64111215"
   }
  }
 },
 "nbformat": 4,
 "nbformat_minor": 2
}
