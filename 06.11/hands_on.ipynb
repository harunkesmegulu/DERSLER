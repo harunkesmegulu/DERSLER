{
 "cells": [
  {
   "cell_type": "code",
   "execution_count": 6,
   "metadata": {},
   "outputs": [
    {
     "name": "stdout",
     "output_type": "stream",
     "text": [
      "[1, 2, [2, 3], 6, 1, 2, [2, 3], 6]\n",
      "[1, 2, [2, 3], 6, 1, 2, [2, 3], 6, 1, 2, [2, 3], 6]\n",
      "[1, 2, [2, 3], 6, 1, 2, [2, 3], 6]\n",
      "[1, 2, [2, 3], 6, 1, 2, [2, 3], 6, 'new']\n"
     ]
    }
   ],
   "source": [
    "list = [1,2,[2,3],6]\n",
    "\n",
    "print (list + list)\n",
    "\n",
    "print (3*list)\n",
    "\n",
    "list1 = (list*2)\n",
    "print (list1)\n",
    "list1.append('new')\n",
    "print (list1)\n"
   ]
  },
  {
   "cell_type": "code",
   "execution_count": 1,
   "metadata": {},
   "outputs": [
    {
     "name": "stdout",
     "output_type": "stream",
     "text": [
      "HELLO WORLD\n"
     ]
    }
   ],
   "source": [
    "print('HELLO WORLD')"
   ]
  },
  {
   "cell_type": "code",
   "execution_count": 2,
   "metadata": {},
   "outputs": [
    {
     "name": "stdout",
     "output_type": "stream",
     "text": [
      "mustang\n"
     ]
    }
   ],
   "source": [
    "list ={\n",
    "    \"model\":\"mustang\",\n",
    "    \"year\":\"2022\"\n",
    "}\n",
    "\n",
    "x = list[\"model\"]\n",
    "print(x)"
   ]
  },
  {
   "cell_type": "code",
   "execution_count": 7,
   "metadata": {},
   "outputs": [
    {
     "name": "stdout",
     "output_type": "stream",
     "text": [
      "2022\n"
     ]
    }
   ],
   "source": [
    "list = {\"year\":\"2022\",\n",
    "\"x\":\"y\"\n",
    "}\n",
    "\n",
    "x = list.get(\"year\")\n",
    "print(x)"
   ]
  }
 ],
 "metadata": {
  "kernelspec": {
   "display_name": "Python 3.11.0 64-bit",
   "language": "python",
   "name": "python3"
  },
  "language_info": {
   "codemirror_mode": {
    "name": "ipython",
    "version": 3
   },
   "file_extension": ".py",
   "mimetype": "text/x-python",
   "name": "python",
   "nbconvert_exporter": "python",
   "pygments_lexer": "ipython3",
   "version": "3.11.0"
  },
  "orig_nbformat": 4,
  "vscode": {
   "interpreter": {
    "hash": "5ffd7eb2cebf9ac436b5021ba01877e9cee6b03524e01bf8c8637d3e64111215"
   }
  }
 },
 "nbformat": 4,
 "nbformat_minor": 2
}
