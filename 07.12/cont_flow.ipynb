{
 "cells": [
  {
   "cell_type": "code",
   "execution_count": 1,
   "metadata": {},
   "outputs": [
    {
     "name": "stdout",
     "output_type": "stream",
     "text": [
      "çifttir\n"
     ]
    }
   ],
   "source": [
    "num = int(input(\"Please enter a number:\"))\n",
    "if num // 2 == 1:\n",
    "    print(\"çifttir\")\n",
    "else : \n",
    "    print(\"tekdir\")"
   ]
  },
  {
   "cell_type": "code",
   "execution_count": null,
   "metadata": {},
   "outputs": [],
   "source": []
  },
  {
   "cell_type": "code",
   "execution_count": 2,
   "metadata": {},
   "outputs": [
    {
     "name": "stdout",
     "output_type": "stream",
     "text": [
      "poz sayıdır\n"
     ]
    }
   ],
   "source": [
    "sayı = int(input(\"Bir sayı Giriniz\"))\n",
    "if sayı < 0 :\n",
    "    print(\"Negatif sayıdr\")\n",
    "elif sayı > 0 :\n",
    "    print(\"Pozitif sayıdır\")\n",
    "else :\n",
    "    print(\"Sıfır sayı girdiniz\")"
   ]
  },
  {
   "cell_type": "code",
   "execution_count": 3,
   "metadata": {},
   "outputs": [
    {
     "name": "stdout",
     "output_type": "stream",
     "text": [
      "en buyuk sayı :  6\n"
     ]
    }
   ],
   "source": [
    "number1 = int(input(\"1. SAyı Gir : \"))\n",
    "number2 = int(input(\"2. SAyı Gir : \"))\n",
    "number3 = int(input(\"3. SAyı Gir : \"))\n",
    "if number1 >= number2 and number1>= number3 :\n",
    "    enbuyuk = number1\n",
    "elif number2 >= number1 and number2>= number3 :\n",
    "    enbuyuk = number2\n",
    "else :\n",
    "    enbuyuk=number3\n",
    "print(\"en buyuk sayı : \", enbuyuk)"
   ]
  },
  {
   "cell_type": "code",
   "execution_count": 4,
   "metadata": {},
   "outputs": [
    {
     "name": "stdout",
     "output_type": "stream",
     "text": [
      "Your degree: below B\n"
     ]
    }
   ],
   "source": [
    "öğrenci_notu = int (input(\"Enter your score :\"))\n",
    "\n",
    "if öğrenci_notu >= 90:\n",
    "    if öğrenci_notu >= 95:\n",
    "        Score_letter=\"A+\"\n",
    "    else:\n",
    "        Score_letter=\"A\"\n",
    "elif öğrenci_notu >= 80:\n",
    "    if öğrenci_notu >= 85:\n",
    "        Score_letter=\"B+\"\n",
    "    else:\n",
    "        Score_letter=\"B\"\n",
    "else:\n",
    "    Score_letter=\"below B\"\n",
    "\n",
    "print (\"Your degree: %s\" % Score_letter)"
   ]
  },
  {
   "cell_type": "code",
   "execution_count": 5,
   "metadata": {},
   "outputs": [],
   "source": [
    "age =input('Enter your age:')\n",
    "while not age.isnumeric(): #(0-9) \n",
    "  print('Please enter correct data')\n",
    "  age = input('Enter your age:')\n",
    " print(f'Your age is {age}')\n",
    "\n",
    "not = input('isdigit() yöntemi yalnızca ondalık sayıları, alt simgeleri ve üst simgeleri kabul eder.\n",
    "isnumeric() işlevi Rakamları, Kaba Kesirleri, Alt Simgeleri, Üst Simgeleri, Romen Rakamlarını ve Para Birimi Paylarını destekler.')"
   ]
  },
  {
   "cell_type": "code",
   "execution_count": null,
   "metadata": {},
   "outputs": [],
   "source": [
    "my_number =15\n",
    "while True: #while is_true:\n",
    "    your_number =int(input(enter))"
   ]
  },
  {
   "cell_type": "code",
   "execution_count": 6,
   "metadata": {},
   "outputs": [
    {
     "name": "stdout",
     "output_type": "stream",
     "text": [
      "['istanbul', 'ankara', 'muş']\n"
     ]
    }
   ],
   "source": [
    "a = 'istanbul,ankara,muş'\n",
    "word_list =a.split(',')\n",
    "print(word_list)"
   ]
  },
  {
   "cell_type": "code",
   "execution_count": 14,
   "metadata": {},
   "outputs": [
    {
     "name": "stdout",
     "output_type": "stream",
     "text": [
      "21\n",
      "21\n"
     ]
    }
   ],
   "source": [
    "a = 'istanbul, ankara, muş'\n",
    "word_list =a.split(',  ')\n",
    "\n",
    "i=0\n",
    "longest =0\n",
    "while i < len(word_list):\n",
    "    if len(word_list[i]) > longest:\n",
    "        longest = len(word_list[i])\n",
    "        print(longest)\n",
    "    i+=1\n",
    "print(longest)\n"
   ]
  },
  {
   "cell_type": "code",
   "execution_count": 8,
   "metadata": {},
   "outputs": [
    {
     "name": "stdout",
     "output_type": "stream",
     "text": [
      "ipsumm\n"
     ]
    }
   ],
   "source": [
    "text = \"lorem ipsumm dolor sit amet.\"\n",
    "lst = text.split(\" \")\n",
    "\n",
    "i = 0\n",
    "\n",
    "longest = \"\"\n",
    "\n",
    "while i < len(lst):\n",
    "    if len(lst[i]) > len(longest):\n",
    "        longest = lst[i]\n",
    "    i += 1\n",
    "print(longest)"
   ]
  },
  {
   "cell_type": "code",
   "execution_count": 16,
   "metadata": {},
   "outputs": [
    {
     "name": "stdout",
     "output_type": "stream",
     "text": [
      "[1]\n",
      "[1, 2]\n",
      "[1, 2, 3]\n",
      "[1, 2, 3, 4]\n",
      "[1, 2, 3, 4, 5]\n",
      "[1, 2, 3, 4, 5]\n"
     ]
    }
   ],
   "source": [
    "num_list =[]\n",
    "for i in range(1,6): #1-5\n",
    "    num_list.append(i)\n",
    "    print(num_list)\n",
    "\n",
    "print(num_list)"
   ]
  },
  {
   "cell_type": "code",
   "execution_count": 19,
   "metadata": {},
   "outputs": [
    {
     "ename": "SyntaxError",
     "evalue": "invalid character '“' (U+201C) (1976822146.py, line 1)",
     "output_type": "error",
     "traceback": [
      "\u001b[1;36m  Cell \u001b[1;32mIn[19], line 1\u001b[1;36m\u001b[0m\n\u001b[1;33m    name = list(“Helloword”)\u001b[0m\n\u001b[1;37m                ^\u001b[0m\n\u001b[1;31mSyntaxError\u001b[0m\u001b[1;31m:\u001b[0m invalid character '“' (U+201C)\n"
     ]
    }
   ],
   "source": [
    "name = list(“Helloword”)\n",
    "for i in name:\n",
    "    if i == name[-1]:\n",
    "        print(i)\n",
    "    else:\n",
    "        print(i, end = “-”)"
   ]
  },
  {
   "cell_type": "code",
   "execution_count": 21,
   "metadata": {},
   "outputs": [
    {
     "name": "stdout",
     "output_type": "stream",
     "text": [
      "h-e-l-l-o-w-o-r-d\n"
     ]
    }
   ],
   "source": [
    "input ='helloword'\n",
    "word =''\n",
    "for i, y in enumerate(input, 0):\n",
    "    if i ==0:\n",
    "        word += y\n",
    "    else:\n",
    "        word += '-'+y\n",
    "print(word)"
   ]
  },
  {
   "cell_type": "code",
   "execution_count": null,
   "metadata": {},
   "outputs": [],
   "source": [
    "string = 'helloword'\n"
   ]
  },
  {
   "cell_type": "code",
   "execution_count": null,
   "metadata": {},
   "outputs": [],
   "source": [
    "word = input('Helloword:')\n",
    "count =0\n",
    "for  "
   ]
  },
  {
   "cell_type": "code",
   "execution_count": 22,
   "metadata": {},
   "outputs": [
    {
     "name": "stdout",
     "output_type": "stream",
     "text": [
      "h-e-l-l-o-w-o-r-d\n"
     ]
    }
   ],
   "source": [
    "inppppput ='helloword'\n",
    "word =''\n",
    "for i, y in enumerate(input, 0):\n",
    "    if i ==0:\n",
    "        word += y\n",
    "    else:\n",
    "        word += '-'+y\n",
    "print(word)"
   ]
  },
  {
   "cell_type": "code",
   "execution_count": 23,
   "metadata": {},
   "outputs": [
    {
     "ename": "SyntaxError",
     "evalue": "invalid syntax (2968010384.py, line 7)",
     "output_type": "error",
     "traceback": [
      "\u001b[1;36m  Cell \u001b[1;32mIn[23], line 7\u001b[1;36m\u001b[0m\n\u001b[1;33m    odd.append(i) if i % 2 else even.append(i)nums = list(range(1, 11))\u001b[0m\n\u001b[1;37m                                              ^\u001b[0m\n\u001b[1;31mSyntaxError\u001b[0m\u001b[1;31m:\u001b[0m invalid syntax\n"
     ]
    }
   ],
   "source": [
    "nums = list(range(1, 11))\n",
    "\n",
    "even = []\n",
    "odd = []\n",
    "\n",
    "for i in nums:\n",
    "    odd.append(i) if i % 2 else even.append(i)nums = list(range(1, 11))\n",
    "\n",
    "even = []\n",
    "odd = []\n",
    "\n",
    "for i in nums:\n",
    "    odd.append(i) if i % 2 else even.append(i)"
   ]
  },
  {
   "cell_type": "code",
   "execution_count": 24,
   "metadata": {},
   "outputs": [
    {
     "ename": "SyntaxError",
     "evalue": "invalid character '”' (U+201D) (2010076259.py, line 9)",
     "output_type": "error",
     "traceback": [
      "\u001b[1;36m  Cell \u001b[1;32mIn[24], line 9\u001b[1;36m\u001b[0m\n\u001b[1;33m    print(f”{even} even numbers and {odd} odd numbers”)\u001b[0m\n\u001b[1;37m           ^\u001b[0m\n\u001b[1;31mSyntaxError\u001b[0m\u001b[1;31m:\u001b[0m invalid character '”' (U+201D)\n"
     ]
    }
   ],
   "source": [
    "a = range(11)\n",
    "even = []\n",
    "odd = []\n",
    "for i in a:\n",
    "  if i % 2:\n",
    "    odd.append(i)\n",
    "  else:\n",
    "    even.append(i)\n",
    "print(f”{even} even numbers and {odd} odd numbers”)"
   ]
  },
  {
   "cell_type": "code",
   "execution_count": 25,
   "metadata": {},
   "outputs": [
    {
     "name": "stdout",
     "output_type": "stream",
     "text": [
      "1\n",
      "22\n",
      "333\n",
      "4444\n",
      "55555\n",
      "666666\n",
      "7777777\n",
      "88888888\n",
      "999999999\n"
     ]
    }
   ],
   "source": [
    "for i in range(1,10):\n",
    "  print(str(i)*i,)"
   ]
  },
  {
   "cell_type": "code",
   "execution_count": null,
   "metadata": {},
   "outputs": [],
   "source": []
  }
 ],
 "metadata": {
  "kernelspec": {
   "display_name": "Python 3.11.0 64-bit",
   "language": "python",
   "name": "python3"
  },
  "language_info": {
   "codemirror_mode": {
    "name": "ipython",
    "version": 3
   },
   "file_extension": ".py",
   "mimetype": "text/x-python",
   "name": "python",
   "nbconvert_exporter": "python",
   "pygments_lexer": "ipython3",
   "version": "3.11.0"
  },
  "orig_nbformat": 4,
  "vscode": {
   "interpreter": {
    "hash": "5ffd7eb2cebf9ac436b5021ba01877e9cee6b03524e01bf8c8637d3e64111215"
   }
  }
 },
 "nbformat": 4,
 "nbformat_minor": 2
}
