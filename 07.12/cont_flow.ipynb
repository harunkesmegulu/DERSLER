{
 "cells": [
  {
   "cell_type": "code",
   "execution_count": 1,
   "metadata": {},
   "outputs": [
    {
     "name": "stdout",
     "output_type": "stream",
     "text": [
      "çifttir\n"
     ]
    }
   ],
   "source": [
    "num = int(input(\"Please enter a number:\"))\n",
    "if num // 2 == 1:\n",
    "    print(\"çifttir\")\n",
    "else : \n",
    "    print(\"tekdir\")"
   ]
  },
  {
   "cell_type": "code",
   "execution_count": null,
   "metadata": {},
   "outputs": [],
   "source": []
  },
  {
   "cell_type": "code",
   "execution_count": 2,
   "metadata": {},
   "outputs": [
    {
     "name": "stdout",
     "output_type": "stream",
     "text": [
      "poz sayıdır\n"
     ]
    }
   ],
   "source": [
    "sayı = int(input(\"Bir sayı Giriniz\"))\n",
    "if sayı < 0 :\n",
    "    print(\"Negatif sayıdr\")\n",
    "elif sayı > 0 :\n",
    "    print(\"Pozitif sayıdır\")\n",
    "else :\n",
    "    print(\"Sıfır sayı girdiniz\")"
   ]
  },
  {
   "cell_type": "code",
   "execution_count": 3,
   "metadata": {},
   "outputs": [
    {
     "name": "stdout",
     "output_type": "stream",
     "text": [
      "en buyuk sayı :  6\n"
     ]
    }
   ],
   "source": [
    "number1 = int(input(\"1. SAyı Gir : \"))\n",
    "number2 = int(input(\"2. SAyı Gir : \"))\n",
    "number3 = int(input(\"3. SAyı Gir : \"))\n",
    "if number1 >= number2 and number1>= number3 :\n",
    "    enbuyuk = number1\n",
    "elif number2 >= number1 and number2>= number3 :\n",
    "    enbuyuk = number2\n",
    "else :\n",
    "    enbuyuk=number3\n",
    "print(\"en buyuk sayı : \", enbuyuk)"
   ]
  },
  {
   "cell_type": "code",
   "execution_count": 4,
   "metadata": {},
   "outputs": [
    {
     "name": "stdout",
     "output_type": "stream",
     "text": [
      "Your degree: below B\n"
     ]
    }
   ],
   "source": [
    "öğrenci_notu = int (input(\"Enter your score :\"))\n",
    "\n",
    "if öğrenci_notu >= 90:\n",
    "    if öğrenci_notu >= 95:\n",
    "        Score_letter=\"A+\"\n",
    "    else:\n",
    "        Score_letter=\"A\"\n",
    "elif öğrenci_notu >= 80:\n",
    "    if öğrenci_notu >= 85:\n",
    "        Score_letter=\"B+\"\n",
    "    else:\n",
    "        Score_letter=\"B\"\n",
    "else:\n",
    "    Score_letter=\"below B\"\n",
    "\n",
    "print (\"Your degree: %s\" % Score_letter)"
   ]
  }
 ],
 "metadata": {
  "kernelspec": {
   "display_name": "Python 3.11.0 64-bit",
   "language": "python",
   "name": "python3"
  },
  "language_info": {
   "codemirror_mode": {
    "name": "ipython",
    "version": 3
   },
   "file_extension": ".py",
   "mimetype": "text/x-python",
   "name": "python",
   "nbconvert_exporter": "python",
   "pygments_lexer": "ipython3",
   "version": "3.11.0"
  },
  "orig_nbformat": 4,
  "vscode": {
   "interpreter": {
    "hash": "5ffd7eb2cebf9ac436b5021ba01877e9cee6b03524e01bf8c8637d3e64111215"
   }
  }
 },
 "nbformat": 4,
 "nbformat_minor": 2
}
