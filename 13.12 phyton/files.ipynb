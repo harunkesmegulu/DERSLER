{
 "cells": [
  {
   "cell_type": "code",
   "execution_count": 1,
   "metadata": {},
   "outputs": [
    {
     "name": "stdout",
     "output_type": "stream",
     "text": [
      "Orca is a kind of Dolphin.\n",
      "Blue Whale is the largest animal known on earth.\n",
      "Sharks are the sister group to the Rays (batoids).\n",
      "The Tuna Fish can weigh up to 260 kg.\n",
      "Squid and Octopus are in the same class.\n"
     ]
    }
   ],
   "source": [
    "sea = open('fishes.txt', 'r')\n",
    "print(sea.read())\n",
    "\n",
    "sea.close()"
   ]
  },
  {
   "cell_type": "code",
   "execution_count": 3,
   "metadata": {},
   "outputs": [
    {
     "name": "stdout",
     "output_type": "stream",
     "text": [
      "Orca i\n"
     ]
    }
   ],
   "source": [
    "sea = open('fishes.txt', 'r')\n",
    "print(sea.read(6))\n",
    "\n",
    "sea.close()"
   ]
  },
  {
   "cell_type": "code",
   "execution_count": 3,
   "metadata": {},
   "outputs": [
    {
     "name": "stdout",
     "output_type": "stream",
     "text": [
      "is a kind of Dolphin\n"
     ]
    }
   ],
   "source": [
    "sea = open('fishes.txt', 'r')\n",
    "sea.seek(5)\n",
    "print(sea.read(20))\n",
    "\n",
    "sea.close()"
   ]
  },
  {
   "cell_type": "code",
   "execution_count": 4,
   "metadata": {},
   "outputs": [
    {
     "name": "stdout",
     "output_type": "stream",
     "text": [
      "is a k\n",
      "ind of Dolphin.\n",
      "Blue \n"
     ]
    }
   ],
   "source": [
    "sea = open('fishes.txt', 'r')\n",
    "sea.seek(5)\n",
    "print(sea.read(6))\n",
    "print(sea.read(21))\n",
    "\n",
    "sea.close()"
   ]
  },
  {
   "cell_type": "code",
   "execution_count": 6,
   "metadata": {},
   "outputs": [
    {
     "name": "stdout",
     "output_type": "stream",
     "text": [
      "I want to sing\n",
      "Like the birds sing,\n"
     ]
    }
   ],
   "source": [
    "rumi = open('rumi.txt')\n",
    "\n",
    "print(rumi.read(35))\n",
    "\n",
    "rumi.close()"
   ]
  },
  {
   "cell_type": "code",
   "execution_count": 7,
   "metadata": {},
   "outputs": [
    {
     "name": "stdout",
     "output_type": "stream",
     "text": [
      "I want to sing\n",
      "Like the birds sing,\n",
      "\n",
      "Not worrying\n"
     ]
    }
   ],
   "source": [
    "rumi = open('rumi.txt')\n",
    "\n",
    "print(rumi.read(35))\n",
    "print(rumi.read(13))\n",
    "rumi.close()"
   ]
  },
  {
   "cell_type": "code",
   "execution_count": 8,
   "metadata": {},
   "outputs": [
    {
     "name": "stdout",
     "output_type": "stream",
     "text": [
      "Orca is a kind of Dolphin.\n",
      "\n",
      "Blue Whale is the largest animal known on earth.\n",
      "\n",
      "Sharks are the sister group to the Rays (batoids).\n",
      "\n"
     ]
    }
   ],
   "source": [
    "sea = open('fishes.txt')\n",
    "\n",
    "print(sea.readline())\n",
    "print(sea.readline())\n",
    "print(sea.readline())\n",
    "\n",
    "sea.close()"
   ]
  }
 ],
 "metadata": {
  "kernelspec": {
   "display_name": "Python 3",
   "language": "python",
   "name": "python3"
  },
  "language_info": {
   "codemirror_mode": {
    "name": "ipython",
    "version": 3
   },
   "file_extension": ".py",
   "mimetype": "text/x-python",
   "name": "python",
   "nbconvert_exporter": "python",
   "pygments_lexer": "ipython3",
   "version": "3.11.0"
  },
  "orig_nbformat": 4,
  "vscode": {
   "interpreter": {
    "hash": "5ffd7eb2cebf9ac436b5021ba01877e9cee6b03524e01bf8c8637d3e64111215"
   }
  }
 },
 "nbformat": 4,
 "nbformat_minor": 2
}
