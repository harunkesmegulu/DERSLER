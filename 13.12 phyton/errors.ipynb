{
 "cells": [
  {
   "cell_type": "code",
   "execution_count": 2,
   "metadata": {},
   "outputs": [
    {
     "name": "stdout",
     "output_type": "stream",
     "text": [
      "Something is wrong because of invalid literal for int() with base 10: 'ten'\n"
     ]
    }
   ],
   "source": [
    "try:\n",
    "    print(int('ten'))\n",
    "except ValueError as e:\n",
    "    print(f'Something is wrong because of {e}')"
   ]
  },
  {
   "attachments": {},
   "cell_type": "markdown",
   "metadata": {},
   "source": []
  },
  {
   "cell_type": "code",
   "execution_count": 3,
   "metadata": {},
   "outputs": [
    {
     "ename": "SyntaxError",
     "evalue": "unterminated string literal (detected at line 1) (88019956.py, line 1)",
     "output_type": "error",
     "traceback": [
      "\u001b[1;36m  Cell \u001b[1;32mIn[3], line 1\u001b[1;36m\u001b[0m\n\u001b[1;33m    print(int('ten))\u001b[0m\n\u001b[1;37m              ^\u001b[0m\n\u001b[1;31mSyntaxError\u001b[0m\u001b[1;31m:\u001b[0m unterminated string literal (detected at line 1)\n"
     ]
    }
   ],
   "source": [
    "print(int('ten))\n"
   ]
  },
  {
   "cell_type": "code",
   "execution_count": 4,
   "metadata": {},
   "outputs": [
    {
     "ename": "NameError",
     "evalue": "name 'X' is not defined",
     "output_type": "error",
     "traceback": [
      "\u001b[1;31m---------------------------------------------------------------------------\u001b[0m",
      "\u001b[1;31mNameError\u001b[0m                                 Traceback (most recent call last)",
      "Cell \u001b[1;32mIn[4], line 4\u001b[0m\n\u001b[0;32m      1\u001b[0m x\u001b[39m=\u001b[39m\u001b[39m10\u001b[39m\n\u001b[0;32m      2\u001b[0m y\u001b[39m=\u001b[39m\u001b[39m20\u001b[39m\n\u001b[1;32m----> 4\u001b[0m \u001b[39mprint\u001b[39m(X)\n",
      "\u001b[1;31mNameError\u001b[0m: name 'X' is not defined"
     ]
    }
   ],
   "source": [
    "x=10\n",
    "y=20\n",
    "\n",
    "print(X)  //BÜYÜK X HAtALI\n"
   ]
  },
  {
   "cell_type": "code",
   "execution_count": 5,
   "metadata": {},
   "outputs": [
    {
     "name": "stdout",
     "output_type": "stream",
     "text": [
      "[250.0]\n",
      "[250.0, 125.0]\n",
      "[250.0, 125.0, 83.33333333333333]\n",
      "[250.0, 125.0, 83.33333333333333, 50.0]\n"
     ]
    },
    {
     "ename": "ZeroDivisionError",
     "evalue": "division by zero",
     "output_type": "error",
     "traceback": [
      "\u001b[1;31m---------------------------------------------------------------------------\u001b[0m",
      "\u001b[1;31mZeroDivisionError\u001b[0m                         Traceback (most recent call last)",
      "Cell \u001b[1;32mIn[5], line 7\u001b[0m\n\u001b[0;32m      4\u001b[0m res_list \u001b[39m=\u001b[39m[]\n\u001b[0;32m      6\u001b[0m \u001b[39mfor\u001b[39;00m num \u001b[39min\u001b[39;00m  num_2:\n\u001b[1;32m----> 7\u001b[0m     res_list\u001b[39m.\u001b[39mappend(num_1\u001b[39m/\u001b[39;49mnum)\n\u001b[0;32m      9\u001b[0m     \u001b[39mprint\u001b[39m(res_list)\n",
      "\u001b[1;31mZeroDivisionError\u001b[0m: division by zero"
     ]
    }
   ],
   "source": [
    "num_1 =250\n",
    "num_2 =[1, 2, 3, 5, 0, 8, 9, 20]\n",
    "\n",
    "res_list =[]\n",
    "\n",
    "for num in  num_2:\n",
    "    res_list.append(num_1/num)\n",
    "\n",
    "    print(res_list)"
   ]
  },
  {
   "cell_type": "code",
   "execution_count": 7,
   "metadata": {},
   "outputs": [
    {
     "name": "stdout",
     "output_type": "stream",
     "text": [
      "[250.0]\n",
      "[250.0, 125.0]\n",
      "[250.0, 125.0, 83.33333333333333]\n",
      "[250.0, 125.0, 83.33333333333333, 50.0]\n",
      "0\n",
      "[250.0, 125.0, 83.33333333333333, 50.0]\n",
      "[250.0, 125.0, 83.33333333333333, 50.0, 31.25]\n",
      "[250.0, 125.0, 83.33333333333333, 50.0, 31.25, 27.77777777777778]\n",
      "[250.0, 125.0, 83.33333333333333, 50.0, 31.25, 27.77777777777778, 12.5]\n"
     ]
    }
   ],
   "source": [
    "num_1 =250\n",
    "num_2 =[1, 2, 3, 5, 0, 8, 9, 20]\n",
    "\n",
    "res_list =[]\n",
    "\n",
    "for num in  num_2:\n",
    "    try:\n",
    "        res_list.append(num_1/num)\n",
    "    except ZeroDivisionError:\n",
    "        print(num)\n",
    "\n",
    "    print(res_list)"
   ]
  }
 ],
 "metadata": {
  "kernelspec": {
   "display_name": "Python 3",
   "language": "python",
   "name": "python3"
  },
  "language_info": {
   "codemirror_mode": {
    "name": "ipython",
    "version": 3
   },
   "file_extension": ".py",
   "mimetype": "text/x-python",
   "name": "python",
   "nbconvert_exporter": "python",
   "pygments_lexer": "ipython3",
   "version": "3.11.0"
  },
  "orig_nbformat": 4,
  "vscode": {
   "interpreter": {
    "hash": "5ffd7eb2cebf9ac436b5021ba01877e9cee6b03524e01bf8c8637d3e64111215"
   }
  }
 },
 "nbformat": 4,
 "nbformat_minor": 2
}
