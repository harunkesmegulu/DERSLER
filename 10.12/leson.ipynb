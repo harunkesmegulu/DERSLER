{
 "cells": [
  {
   "cell_type": "code",
   "execution_count": 2,
   "metadata": {},
   "outputs": [],
   "source": [
    "def calculator(a, b, op):\n",
    "    if op == \"+\":\n",
    "        return a + b\n",
    "    elif op == \"-\":\n",
    "        return a - b\n",
    "    elif op == \"*\":\n",
    "        return a * b\n",
    "    elif op == \"/\":\n",
    "        return round(a / b, 2)\n",
    "    else:\n",
    "        print(\"Invalid operator\")"
   ]
  },
  {
   "cell_type": "code",
   "execution_count": 3,
   "metadata": {},
   "outputs": [],
   "source": [
    "def calculator(a, b, op):\n",
    "    if op == \"+\":\n",
    "        return a + b\n",
    "    elif op == \"-\":\n",
    "        return a - b\n",
    "    elif op == \"*\":\n",
    "        return a * b\n",
    "    elif op == \"/\":\n",
    "        return round(a / b, 2)\n",
    "    else:\n",
    "        print(\"Invalid operator\")"
   ]
  },
  {
   "cell_type": "code",
   "execution_count": 7,
   "metadata": {},
   "outputs": [
    {
     "name": "stdout",
     "output_type": "stream",
     "text": [
      "-23\n",
      "This function returns the absolute value of the entered number\n"
     ]
    }
   ],
   "source": [
    "def absolute_value(x):\n",
    "    \"\"\"This function returns the absolute value of the entered number\"\"\"\n",
    "    if x >= 0:\n",
    "        return -x\n",
    "\n",
    "print(absolute_value(23))\n",
    "print(absolute_value.__doc__)\n"
   ]
  },
  {
   "cell_type": "code",
   "execution_count": 8,
   "metadata": {},
   "outputs": [
    {
     "name": "stdout",
     "output_type": "stream",
     "text": [
      "London in Europe\n"
     ]
    }
   ],
   "source": [
    "def city(capital, continent='Europe'):\n",
    "    print(capital, 'in', continent)\n",
    "city('London')"
   ]
  },
  {
   "cell_type": "code",
   "execution_count": 10,
   "metadata": {},
   "outputs": [
    {
     "name": "stdout",
     "output_type": "stream",
     "text": [
      "London and Paris in Europe\n"
     ]
    }
   ],
   "source": [
    "def city(capital,a, continent='Europe'):\n",
    "    print(capital,'and', a, 'in', continent)\n",
    "city('London','Paris')"
   ]
  },
  {
   "cell_type": "code",
   "execution_count": 13,
   "metadata": {},
   "outputs": [
    {
     "name": "stdout",
     "output_type": "stream",
     "text": [
      "London Europe\n"
     ]
    }
   ],
   "source": [
    "def city(capital,a='', continent='Europe'):\n",
    "    if a:\n",
    "        print(capital,'and', a, 'in', continent)\n",
    "    else:\n",
    "        print(capital,continent)\n",
    "\n",
    "city('London')"
   ]
  },
  {
   "cell_type": "code",
   "execution_count": 18,
   "metadata": {},
   "outputs": [
    {
     "name": "stdout",
     "output_type": "stream",
     "text": [
      "i want to get:\n",
      "* oramge\n",
      "* banana\n",
      "* lemon\n"
     ]
    }
   ],
   "source": [
    "def fruiterer(*args):\n",
    "    print(f'i want to get:')\n",
    "    for i in args:\n",
    "        print('*',i)\n",
    "\n",
    "fruiterer('oramge', 'banana','lemon')"
   ]
  },
  {
   "cell_type": "code",
   "execution_count": 23,
   "metadata": {},
   "outputs": [
    {
     "name": "stdout",
     "output_type": "stream",
     "text": [
      "('oramge', 'banana', 'lemon')\n",
      "i want to get oramge ,i want to get banana ,i want to get lemon ,"
     ]
    }
   ],
   "source": [
    "def fruiterer(*args):\n",
    "    print(args)\n",
    "    for i in args:\n",
    "        print('i want to get',i, end=' ,')\n",
    "\n",
    "fruiterer('oramge', 'banana','lemon')"
   ]
  },
  {
   "cell_type": "code",
   "execution_count": 24,
   "metadata": {},
   "outputs": [
    {
     "name": "stdout",
     "output_type": "stream",
     "text": [
      "i want to get\n"
     ]
    }
   ],
   "source": [
    "def fruiterer(*args):\n",
    "    print(f'i want to get')\n",
    "\n",
    "fruiterer('oramge', 'banana','lemon')"
   ]
  },
  {
   "cell_type": "code",
   "execution_count": 25,
   "metadata": {},
   "outputs": [
    {
     "name": "stdout",
     "output_type": "stream",
     "text": [
      "('oramge', 'banana', 'lemon')\n",
      "oramge ,banana ,lemon ,"
     ]
    }
   ],
   "source": [
    "def fruiterer(*args):\n",
    "    print(args)\n",
    "    for i in args:\n",
    "        print(i, end=' ,')\n",
    "\n",
    "fruiterer('oramge', 'banana','lemon')"
   ]
  },
  {
   "cell_type": "code",
   "execution_count": null,
   "metadata": {},
   "outputs": [],
   "source": [
    "def fruiterer(*args):\n",
    "    print(args)\n",
    "    for i in args:\n",
    "        print(i, end=' ,')\n",
    "\n",
    "fruiterer('oramge', 'banana','lemon')"
   ]
  },
  {
   "cell_type": "code",
   "execution_count": 27,
   "metadata": {},
   "outputs": [],
   "source": [
    "def slicer(*args):\n",
    "    even = []\n",
    "    odd = []\n",
    "    for i in args:\n",
    "        if i % 2:\n",
    "            odd.append(i)\n",
    "        else:\n",
    "            even.appen(i)\n",
    "    return odd, even\n",
    "    "
   ]
  },
  {
   "cell_type": "code",
   "execution_count": 30,
   "metadata": {},
   "outputs": [
    {
     "ename": "AttributeError",
     "evalue": "'list' object has no attribute 'appen'",
     "output_type": "error",
     "traceback": [
      "\u001b[1;31m---------------------------------------------------------------------------\u001b[0m",
      "\u001b[1;31mAttributeError\u001b[0m                            Traceback (most recent call last)",
      "Cell \u001b[1;32mIn[30], line 1\u001b[0m\n\u001b[1;32m----> 1\u001b[0m odd, even \u001b[39m=\u001b[39mslicer(\u001b[39m1\u001b[39;49m, \u001b[39m2\u001b[39;49m, \u001b[39m3\u001b[39;49m, \u001b[39m4\u001b[39;49m, \u001b[39m5\u001b[39;49m, \u001b[39m6\u001b[39;49m)\n\u001b[0;32m      3\u001b[0m \u001b[39mprint\u001b[39m(odd)\n\u001b[0;32m      4\u001b[0m \u001b[39mprint\u001b[39m(even)\n",
      "Cell \u001b[1;32mIn[27], line 8\u001b[0m, in \u001b[0;36mslicer\u001b[1;34m(*args)\u001b[0m\n\u001b[0;32m      6\u001b[0m         odd\u001b[39m.\u001b[39mappend(i)\n\u001b[0;32m      7\u001b[0m     \u001b[39melse\u001b[39;00m:\n\u001b[1;32m----> 8\u001b[0m         even\u001b[39m.\u001b[39;49mappen(i)\n\u001b[0;32m      9\u001b[0m \u001b[39mreturn\u001b[39;00m odd, even\n",
      "\u001b[1;31mAttributeError\u001b[0m: 'list' object has no attribute 'appen'"
     ]
    }
   ],
   "source": [
    "odd, even =slicer(1, 2, 3, 4, 5, 6)\n",
    "\n",
    "print(odd)\n",
    "print(even)"
   ]
  },
  {
   "cell_type": "code",
   "execution_count": 31,
   "metadata": {},
   "outputs": [],
   "source": [
    "def slicer(*args):\n",
    "\n",
    "    return [odd for odd in args if odd % 2 == 1], [even for even in args if even % 2 == 0]"
   ]
  },
  {
   "cell_type": "code",
   "execution_count": 33,
   "metadata": {},
   "outputs": [
    {
     "name": "stdout",
     "output_type": "stream",
     "text": [
      "these are odd [5, 7, 9, 11] and these are even [2, 4, 6, 10]\n"
     ]
    }
   ],
   "source": [
    "def nums(*args):\n",
    "  empty_odd = []\n",
    "  empty_even = []\n",
    "  for i in args:\n",
    "    if i % 2 == 1:\n",
    "      empty_odd.append(i)\n",
    "    else:\n",
    "      empty_even.append(i)\n",
    "  return (f\"these are odd {empty_odd} and these are even {empty_even}\")\n",
    "print(nums(2, 4, 5, 6, 7, 9, 11, 10))"
   ]
  },
  {
   "cell_type": "code",
   "execution_count": 34,
   "metadata": {},
   "outputs": [],
   "source": [
    "def slicer(*args):\n",
    "    even = []\n",
    "    odd = []\n",
    "    for i in args:\n",
    "        if i % 2:\n",
    "            odd.append(i)\n",
    "        else:\n",
    "            even.append(i)\n",
    "    return odd, even"
   ]
  },
  {
   "cell_type": "code",
   "execution_count": 35,
   "metadata": {},
   "outputs": [
    {
     "name": "stdout",
     "output_type": "stream",
     "text": [
      "dict_values(['Tiger', 'Elephant', 'Bears'])\n",
      "a  is  Tiger\n",
      "b  is  Elephant\n",
      "c  is  Bears\n"
     ]
    }
   ],
   "source": [
    "def animals(**kwargs):\n",
    "    print(kwargs.values())\n",
    "    for key, value in kwargs.items():\n",
    "        print(key, ' is ', value)\n",
    "\n",
    "animals(a='Tiger', b='Elephant', c='Bears')"
   ]
  },
  {
   "cell_type": "code",
   "execution_count": 36,
   "metadata": {},
   "outputs": [],
   "source": [
    "def organizer(**kwargs):\n",
    "    names = []\n",
    "    ages = []\n",
    "    for key, value in kwargs.items():\n",
    "        names.append(key)\n",
    "        ages.append(value)\n",
    "        \n",
    "    print(names, ages, sep=\"\\n\")"
   ]
  },
  {
   "cell_type": "code",
   "execution_count": 37,
   "metadata": {},
   "outputs": [],
   "source": [
    "def organizer(**kwargs):\n",
    "    names = list(kwargs.keys())\n",
    "    ages = list(kwargs.values())"
   ]
  },
  {
   "cell_type": "code",
   "execution_count": 38,
   "metadata": {},
   "outputs": [],
   "source": [
    "def organizer(**kwargs):\n",
    "    keys = []\n",
    "    values =[]\n",
    "    for k,v in kwargs.items():\n",
    "        keys.append(k)\n",
    "        values.append(v)\n",
    "    \n",
    "    return f\"{keys} \\n{values}\""
   ]
  },
  {
   "cell_type": "code",
   "execution_count": null,
   "metadata": {},
   "outputs": [],
   "source": [
    "def organizer(**kwargs):\n",
    "    name_list = list[]\n",
    "    age_list = list[]\n",
    "\n",
    "    for name, age in kwargs.items():\n",
    "        name_list.append(name)\n",
    "        age_list.append(age)\n",
    "        "
   ]
  },
  {
   "cell_type": "code",
   "execution_count": 39,
   "metadata": {},
   "outputs": [
    {
     "name": "stdout",
     "output_type": "stream",
     "text": [
      "1 2 3\n"
     ]
    }
   ],
   "source": [
    "family =[1, 2, 3]\n",
    "\n",
    "print(*family)"
   ]
  },
  {
   "cell_type": "code",
   "execution_count": 40,
   "metadata": {},
   "outputs": [
    {
     "name": "stdout",
     "output_type": "stream",
     "text": [
      "4\n"
     ]
    }
   ],
   "source": [
    "print((lambda x: x**2)(2))"
   ]
  },
  {
   "cell_type": "code",
   "execution_count": 46,
   "metadata": {},
   "outputs": [
    {
     "name": "stdout",
     "output_type": "stream",
     "text": [
      "4.0\n"
     ]
    },
    {
     "data": {
      "text/plain": [
       "'def() ---> süreklilik arz ediyor, tekrar çağırılıyor\\nlambda ---> o an tanımlanıp kullanılıp bitiyor'"
      ]
     },
     "execution_count": 46,
     "metadata": {},
     "output_type": "execute_result"
    }
   ],
   "source": [
    "avarage =(lambda x, y: (x+y) /2) (3,5)\n",
    "print(avarage)\n",
    "\n",
    "\"\"\"def() ---> süreklilik arz ediyor, tekrar çağırılıyor\n",
    "lambda ---> o an tanımlanıp kullanılıp bitiyor\"\"\""
   ]
  },
  {
   "cell_type": "code",
   "execution_count": 49,
   "metadata": {},
   "outputs": [
    {
     "name": "stdout",
     "output_type": "stream",
     "text": [
      "fedcba\n"
     ]
    }
   ],
   "source": [
    "iterable ='abcdef'\n",
    "\n",
    "reverse_itr = (lambda x: x[::-1])(iterable)\n",
    "\n",
    "print(reverse_itr)"
   ]
  },
  {
   "cell_type": "code",
   "execution_count": 53,
   "metadata": {},
   "outputs": [
    {
     "name": "stdout",
     "output_type": "stream",
     "text": [
      "1 : odd\n",
      "2 : even\n",
      "3 : odd\n",
      "4 : even\n",
      "5 : odd\n"
     ]
    }
   ],
   "source": [
    "a_list = [1, 2, 3, 4, 5]\n",
    "for i in a_list:\n",
    "    print (i , ':', (lambda i: 'odd' if i % 2 else 'even')(i))"
   ]
  },
  {
   "cell_type": "code",
   "execution_count": 55,
   "metadata": {},
   "outputs": [
    {
     "name": "stdout",
     "output_type": "stream",
     "text": [
      "[1, 2, 3, 4, 5]\n",
      "[1, 4, 9, 16, 25]\n"
     ]
    }
   ],
   "source": [
    "iterable = [1, 2, 3, 4, 5]\n",
    "res = map(lambda x: x**2, iterable)\n",
    "\n",
    "square = list(res)\n",
    "\n",
    "print(iterable)\n",
    "print(square)"
   ]
  }
 ],
 "metadata": {
  "kernelspec": {
   "display_name": "Python 3.11.0 64-bit",
   "language": "python",
   "name": "python3"
  },
  "language_info": {
   "codemirror_mode": {
    "name": "ipython",
    "version": 3
   },
   "file_extension": ".py",
   "mimetype": "text/x-python",
   "name": "python",
   "nbconvert_exporter": "python",
   "pygments_lexer": "ipython3",
   "version": "3.11.0"
  },
  "orig_nbformat": 4,
  "vscode": {
   "interpreter": {
    "hash": "5ffd7eb2cebf9ac436b5021ba01877e9cee6b03524e01bf8c8637d3e64111215"
   }
  }
 },
 "nbformat": 4,
 "nbformat_minor": 2
}
