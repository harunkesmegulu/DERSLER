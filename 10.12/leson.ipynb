{
 "cells": [
  {
   "cell_type": "code",
   "execution_count": 2,
   "metadata": {},
   "outputs": [],
   "source": [
    "def calculator(a, b, op):\n",
    "    if op == \"+\":\n",
    "        return a + b\n",
    "    elif op == \"-\":\n",
    "        return a - b\n",
    "    elif op == \"*\":\n",
    "        return a * b\n",
    "    elif op == \"/\":\n",
    "        return round(a / b, 2)\n",
    "    else:\n",
    "        print(\"Invalid operator\")"
   ]
  },
  {
   "cell_type": "code",
   "execution_count": 3,
   "metadata": {},
   "outputs": [],
   "source": [
    "def calculator(a, b, op):\n",
    "    if op == \"+\":\n",
    "        return a + b\n",
    "    elif op == \"-\":\n",
    "        return a - b\n",
    "    elif op == \"*\":\n",
    "        return a * b\n",
    "    elif op == \"/\":\n",
    "        return round(a / b, 2)\n",
    "    else:\n",
    "        print(\"Invalid operator\")"
   ]
  },
  {
   "cell_type": "code",
   "execution_count": 7,
   "metadata": {},
   "outputs": [
    {
     "name": "stdout",
     "output_type": "stream",
     "text": [
      "-23\n",
      "This function returns the absolute value of the entered number\n"
     ]
    }
   ],
   "source": [
    "def absolute_value(x):\n",
    "    \"\"\"This function returns the absolute value of the entered number\"\"\"\n",
    "    if x >= 0:\n",
    "        return -x\n",
    "\n",
    "print(absolute_value(23))\n",
    "print(absolute_value.__doc__)\n"
   ]
  },
  {
   "cell_type": "code",
   "execution_count": 8,
   "metadata": {},
   "outputs": [
    {
     "name": "stdout",
     "output_type": "stream",
     "text": [
      "London in Europe\n"
     ]
    }
   ],
   "source": [
    "def city(capital, continent='Europe'):\n",
    "    print(capital, 'in', continent)\n",
    "city('London')"
   ]
  },
  {
   "cell_type": "code",
   "execution_count": 10,
   "metadata": {},
   "outputs": [
    {
     "name": "stdout",
     "output_type": "stream",
     "text": [
      "London and Paris in Europe\n"
     ]
    }
   ],
   "source": [
    "def city(capital,a, continent='Europe'):\n",
    "    print(capital,'and', a, 'in', continent)\n",
    "city('London','Paris')"
   ]
  },
  {
   "cell_type": "code",
   "execution_count": 13,
   "metadata": {},
   "outputs": [
    {
     "name": "stdout",
     "output_type": "stream",
     "text": [
      "London Europe\n"
     ]
    }
   ],
   "source": [
    "def city(capital,a='', continent='Europe'):\n",
    "    if a:\n",
    "        print(capital,'and', a, 'in', continent)\n",
    "    else:\n",
    "        print(capital,continent)\n",
    "\n",
    "city('London')"
   ]
  },
  {
   "cell_type": "code",
   "execution_count": 18,
   "metadata": {},
   "outputs": [
    {
     "name": "stdout",
     "output_type": "stream",
     "text": [
      "i want to get:\n",
      "* oramge\n",
      "* banana\n",
      "* lemon\n"
     ]
    }
   ],
   "source": [
    "def fruiterer(*args):\n",
    "    print(f'i want to get:')\n",
    "    for i in args:\n",
    "        print('*',i)\n",
    "\n",
    "fruiterer('oramge', 'banana','lemon')"
   ]
  },
  {
   "cell_type": "code",
   "execution_count": 23,
   "metadata": {},
   "outputs": [
    {
     "name": "stdout",
     "output_type": "stream",
     "text": [
      "('oramge', 'banana', 'lemon')\n",
      "i want to get oramge ,i want to get banana ,i want to get lemon ,"
     ]
    }
   ],
   "source": [
    "def fruiterer(*args):\n",
    "    print(args)\n",
    "    for i in args:\n",
    "        print('i want to get',i, end=' ,')\n",
    "\n",
    "fruiterer('oramge', 'banana','lemon')"
   ]
  },
  {
   "cell_type": "code",
   "execution_count": 24,
   "metadata": {},
   "outputs": [
    {
     "name": "stdout",
     "output_type": "stream",
     "text": [
      "i want to get\n"
     ]
    }
   ],
   "source": [
    "def fruiterer(*args):\n",
    "    print(f'i want to get')\n",
    "\n",
    "fruiterer('oramge', 'banana','lemon')"
   ]
  },
  {
   "cell_type": "code",
   "execution_count": 25,
   "metadata": {},
   "outputs": [
    {
     "name": "stdout",
     "output_type": "stream",
     "text": [
      "('oramge', 'banana', 'lemon')\n",
      "oramge ,banana ,lemon ,"
     ]
    }
   ],
   "source": [
    "def fruiterer(*args):\n",
    "    print(args)\n",
    "    for i in args:\n",
    "        print(i, end=' ,')\n",
    "\n",
    "fruiterer('oramge', 'banana','lemon')"
   ]
  },
  {
   "cell_type": "code",
   "execution_count": null,
   "metadata": {},
   "outputs": [],
   "source": [
    "def fruiterer(*args):\n",
    "    print(args)\n",
    "    for i in args:\n",
    "        print(i, end=' ,')\n",
    "\n",
    "fruiterer('oramge', 'banana','lemon')"
   ]
  },
  {
   "cell_type": "code",
   "execution_count": 26,
   "metadata": {},
   "outputs": [],
   "source": [
    "def slicer(*args):\n",
    "    even = []\n",
    "    odd = []\n",
    "    for i in args:\n",
    "        if i % 2:\n",
    "            odd.append(i)\n",
    "        else:\n",
    "            even.appen(i)\n",
    "    "
   ]
  }
 ],
 "metadata": {
  "kernelspec": {
   "display_name": "Python 3.11.0 64-bit",
   "language": "python",
   "name": "python3"
  },
  "language_info": {
   "codemirror_mode": {
    "name": "ipython",
    "version": 3
   },
   "file_extension": ".py",
   "mimetype": "text/x-python",
   "name": "python",
   "nbconvert_exporter": "python",
   "pygments_lexer": "ipython3",
   "version": "3.11.0"
  },
  "orig_nbformat": 4,
  "vscode": {
   "interpreter": {
    "hash": "5ffd7eb2cebf9ac436b5021ba01877e9cee6b03524e01bf8c8637d3e64111215"
   }
  }
 },
 "nbformat": 4,
 "nbformat_minor": 2
}
